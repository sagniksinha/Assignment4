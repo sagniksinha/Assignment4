{
 "cells": [
  {
   "cell_type": "code",
   "execution_count": 6,
   "id": "bdc3881e",
   "metadata": {
    "collapsed": true
   },
   "outputs": [
    {
     "name": "stdout",
     "output_type": "stream",
     "text": [
      "Requirement already satisfied: mdptoolbox-hiive in c:\\users\\sagni\\anaconda3\\envs\\python_3_10_11\\lib\\site-packages (4.0.3.1)\n",
      "Requirement already satisfied: gym in c:\\users\\sagni\\anaconda3\\envs\\python_3_10_11\\lib\\site-packages (0.26.2)\n",
      "Collecting pymdptoolbox\n",
      "  Downloading pymdptoolbox-4.0-b3.zip (29 kB)\n",
      "  Preparing metadata (setup.py): started\n",
      "  Preparing metadata (setup.py): finished with status 'done'\n",
      "Requirement already satisfied: numpy in c:\\users\\sagni\\anaconda3\\envs\\python_3_10_11\\lib\\site-packages (from mdptoolbox-hiive) (1.26.4)\n",
      "Requirement already satisfied: scipy in c:\\users\\sagni\\anaconda3\\envs\\python_3_10_11\\lib\\site-packages (from mdptoolbox-hiive) (1.12.0)\n",
      "Requirement already satisfied: ipython in c:\\users\\sagni\\anaconda3\\envs\\python_3_10_11\\lib\\site-packages (from mdptoolbox-hiive) (8.22.2)\n",
      "Requirement already satisfied: networkx in c:\\users\\sagni\\anaconda3\\envs\\python_3_10_11\\lib\\site-packages (from mdptoolbox-hiive) (3.2.1)\n",
      "Requirement already satisfied: pydot in c:\\users\\sagni\\anaconda3\\envs\\python_3_10_11\\lib\\site-packages (from mdptoolbox-hiive) (2.0.0)\n",
      "Requirement already satisfied: cloudpickle>=1.2.0 in c:\\users\\sagni\\anaconda3\\envs\\python_3_10_11\\lib\\site-packages (from gym) (3.0.0)\n",
      "Requirement already satisfied: gym-notices>=0.0.4 in c:\\users\\sagni\\anaconda3\\envs\\python_3_10_11\\lib\\site-packages (from gym) (0.0.8)\n",
      "Requirement already satisfied: decorator in c:\\users\\sagni\\anaconda3\\envs\\python_3_10_11\\lib\\site-packages (from ipython->mdptoolbox-hiive) (5.1.1)\n",
      "Requirement already satisfied: jedi>=0.16 in c:\\users\\sagni\\anaconda3\\envs\\python_3_10_11\\lib\\site-packages (from ipython->mdptoolbox-hiive) (0.19.1)\n",
      "Requirement already satisfied: matplotlib-inline in c:\\users\\sagni\\anaconda3\\envs\\python_3_10_11\\lib\\site-packages (from ipython->mdptoolbox-hiive) (0.1.6)\n",
      "Requirement already satisfied: prompt-toolkit<3.1.0,>=3.0.41 in c:\\users\\sagni\\anaconda3\\envs\\python_3_10_11\\lib\\site-packages (from ipython->mdptoolbox-hiive) (3.0.43)\n",
      "Requirement already satisfied: pygments>=2.4.0 in c:\\users\\sagni\\anaconda3\\envs\\python_3_10_11\\lib\\site-packages (from ipython->mdptoolbox-hiive) (2.17.2)\n",
      "Requirement already satisfied: stack-data in c:\\users\\sagni\\anaconda3\\envs\\python_3_10_11\\lib\\site-packages (from ipython->mdptoolbox-hiive) (0.6.3)\n",
      "Requirement already satisfied: traitlets>=5.13.0 in c:\\users\\sagni\\anaconda3\\envs\\python_3_10_11\\lib\\site-packages (from ipython->mdptoolbox-hiive) (5.14.2)\n",
      "Requirement already satisfied: exceptiongroup in c:\\users\\sagni\\anaconda3\\envs\\python_3_10_11\\lib\\site-packages (from ipython->mdptoolbox-hiive) (1.2.0)\n",
      "Requirement already satisfied: colorama in c:\\users\\sagni\\anaconda3\\envs\\python_3_10_11\\lib\\site-packages (from ipython->mdptoolbox-hiive) (0.4.6)\n",
      "Requirement already satisfied: pyparsing>=3 in c:\\users\\sagni\\anaconda3\\envs\\python_3_10_11\\lib\\site-packages (from pydot->mdptoolbox-hiive) (3.1.2)\n",
      "Requirement already satisfied: parso<0.9.0,>=0.8.3 in c:\\users\\sagni\\anaconda3\\envs\\python_3_10_11\\lib\\site-packages (from jedi>=0.16->ipython->mdptoolbox-hiive) (0.8.3)\n",
      "Requirement already satisfied: wcwidth in c:\\users\\sagni\\anaconda3\\envs\\python_3_10_11\\lib\\site-packages (from prompt-toolkit<3.1.0,>=3.0.41->ipython->mdptoolbox-hiive) (0.2.13)\n",
      "Requirement already satisfied: executing>=1.2.0 in c:\\users\\sagni\\anaconda3\\envs\\python_3_10_11\\lib\\site-packages (from stack-data->ipython->mdptoolbox-hiive) (2.0.1)\n",
      "Requirement already satisfied: asttokens>=2.1.0 in c:\\users\\sagni\\anaconda3\\envs\\python_3_10_11\\lib\\site-packages (from stack-data->ipython->mdptoolbox-hiive) (2.4.1)\n",
      "Requirement already satisfied: pure-eval in c:\\users\\sagni\\anaconda3\\envs\\python_3_10_11\\lib\\site-packages (from stack-data->ipython->mdptoolbox-hiive) (0.2.2)\n",
      "Requirement already satisfied: six>=1.12.0 in c:\\users\\sagni\\anaconda3\\envs\\python_3_10_11\\lib\\site-packages (from asttokens>=2.1.0->stack-data->ipython->mdptoolbox-hiive) (1.16.0)\n",
      "Building wheels for collected packages: pymdptoolbox\n",
      "  Building wheel for pymdptoolbox (setup.py): started\n",
      "  Building wheel for pymdptoolbox (setup.py): finished with status 'done'\n",
      "  Created wheel for pymdptoolbox: filename=pymdptoolbox-4.0b3-py3-none-any.whl size=25670 sha256=6e6f0508a49d790e706b4474129c3141f7caf0cec32ca162a70138b33ffd3ba9\n",
      "  Stored in directory: c:\\users\\sagni\\appdata\\local\\pip\\cache\\wheels\\2b\\e7\\c7\\d7abf9e309f3573a934fed2750c70bd75d9e9d901f7f16e183\n",
      "Successfully built pymdptoolbox\n",
      "Installing collected packages: pymdptoolbox\n",
      "Successfully installed pymdptoolbox-4.0b3\n",
      "Note: you may need to restart the kernel to use updated packages.\n"
     ]
    }
   ],
   "source": [
    "# pip install mdptoolbox-hiive gym pymdptoolbox"
   ]
  },
  {
   "cell_type": "code",
   "execution_count": 7,
   "id": "1f685714",
   "metadata": {},
   "outputs": [],
   "source": [
    "import numpy as np # linear algebra\n",
    "import pandas as pd # data processing, CSV file I/O (e.g. pd.read_csv)\n",
    "import hiive.mdptoolbox \n",
    "import hiive.mdptoolbox.mdp\n",
    "import hiive.mdptoolbox.example\n",
    "import mdptoolbox, mdptoolbox.example\n",
    "import gym\n",
    "import matplotlib.pyplot as plt\n",
    "import time"
   ]
  }
 ],
 "metadata": {
  "kernelspec": {
   "display_name": "Py-3-10-11",
   "language": "python",
   "name": "py-3-10-11"
  },
  "language_info": {
   "codemirror_mode": {
    "name": "ipython",
    "version": 3
   },
   "file_extension": ".py",
   "mimetype": "text/x-python",
   "name": "python",
   "nbconvert_exporter": "python",
   "pygments_lexer": "ipython3",
   "version": "3.10.11"
  }
 },
 "nbformat": 4,
 "nbformat_minor": 5
}
